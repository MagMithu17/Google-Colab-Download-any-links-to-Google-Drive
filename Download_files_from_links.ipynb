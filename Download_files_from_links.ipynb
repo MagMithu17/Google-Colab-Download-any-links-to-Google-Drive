{
  "nbformat": 4,
  "nbformat_minor": 0,
  "metadata": {
    "colab": {
      "name": "Download-files-from-links.ipynb",
      "provenance": []
    },
    "kernelspec": {
      "name": "python3",
      "display_name": "Python 3"
    },
    "language_info": {
      "name": "python"
    }
  },
  "cells": [
    {
      "cell_type": "code",
      "execution_count": null,
      "metadata": {
        "cellView": "form",
        "id": "OwR8c72Hs7y8"
      },
      "outputs": [],
      "source": [
        "#@title <font color =\"yellow\">`⬅`</font><font color=\"#01c968\">`Download from Link`</font>\n",
        "#@markdown <font color =\"red\"><h6>`In \"Firefox_cliget_wget_link\" and \"Firefox_Command_Line_Get_Curl_Link\" method you can't edit Downloading file name using \"File_Name\" field`</h6>\n",
        "def first4(s):\n",
        "    return s[:4]\n",
        "import os\n",
        "Download_Link_Model = \"Normal_Link\" #@param [\"Normal_Link\", \"Firefox_cliget_wget_link\", \"Firefox_Command_Line_Get_Curl_Link\"] \n",
        "\n",
        "Download_Location = \"/content/drive/MyDrive/Downloads\" # @param {type:\"string\"}\n",
        "if not Download_Location.strip():\n",
        "  Download_Location = \"/content\"\n",
        "from pathlib import Path\n",
        "Path(Download_Location).mkdir(parents=True, exist_ok=True)\n",
        "os.chdir(Download_Location)\n",
        "Link = \"\" # @param {type:\"string\"}\n",
        "File_Name = \"\" # @param {type:\"string\"}\n",
        "if Download_Link_Model==\"Firefox_cliget_wget_link\":\n",
        "  cliget_link = Link.strip()\n",
        "  chk = first4(cliget_link)\n",
        "  if chk==\"wget\":\n",
        "    cliget_link = cliget_link[5:]  \n",
        "  !wget -c $cliget_link --no-check-certificate\n",
        "elif Download_Link_Model==\"Firefox_Command_Line_Get_Curl_Link\":\n",
        "  CLG_Curl_Link = Link.strip()\n",
        "  !$CLG_Curl_Link\n",
        "else:\n",
        "  if not File_Name.strip(): \n",
        "    !wget -c \"$Link\" --no-check-certificate\n",
        "  else:  \n",
        "    !wget -c \"$Link\" -O \"$File_Name\" --no-check-certificate"
      ]
    }
  ]
}